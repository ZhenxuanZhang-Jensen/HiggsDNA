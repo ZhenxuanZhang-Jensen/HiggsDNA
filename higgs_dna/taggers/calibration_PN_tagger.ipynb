{
 "cells": [
  {
   "cell_type": "code",
   "execution_count": 1,
   "metadata": {},
   "outputs": [],
   "source": [
    "import uproot\n",
    "import matplotlib.pyplot as plt\n",
    "import numpy as np\n",
    "import matplotlib.pyplot as plt\n",
    "import awkward as ak\n",
    "import pandas as pd"
   ]
  },
  {
   "cell_type": "markdown",
   "metadata": {},
   "source": [
    "# define the fuction we need"
   ]
  },
  {
   "cell_type": "code",
   "execution_count": 2,
   "metadata": {},
   "outputs": [],
   "source": [
    "def read_files(file_name):\n",
    "    events = ak.from_parquet(file_name)\n",
    "    return events\n",
    "def read_files_uproot(file_name):\n",
    "    events = uproot.open(file_name)\n",
    "    return events\n",
    "def count_events(events_name, var_name, mask, title_name):\n",
    "    counts, bins, patches = plt.hist(events_name[var_name][mask], weights = events_name['weight_central'][mask])\n",
    "    total_events = np.sum(counts)\n",
    "    print(f\"event name is:  {title_name} , total_events is: {total_events} \")\n",
    "def plot_var(*var_arr,mask, weight, legend_name,bins):\n",
    "    for i in range(len(var_arr)):\n",
    "        plt.hist(var_arr[i][mask], weights = weight[mask], histtype=\"step\", density=True, label=legend_name,bins=bins)\n",
    "        plt.legend()\n",
    "def delta_R_O(phi1, phi2):\n",
    "    \n",
    "    delta_phi = phi2 - phi1\n",
    "    delta_eta = 0\n",
    "    return np.sqrt(delta_phi**2 + delta_eta**2)\n",
    "\n",
    "def delta_R(phi1, eta1, phi2, eta2):\n",
    "    delta_phi = phi2 - phi1\n",
    "    delta_eta = eta2 - eta1\n",
    "    return np.sqrt(delta_phi**2 + delta_eta**2)\n",
    "def get_min_phoID(lead_phoID, sublead_phoID):\n",
    "    min_phoID = ak.where(lead_phoID,sublead_phoID, sublead_phoID > lead_phoID)    \n",
    "    return min_phoID"
   ]
  },
  {
   "cell_type": "code",
   "execution_count": 42,
   "metadata": {},
   "outputs": [],
   "source": [
    "# check the samples PN score distribution\n",
    "#add 3 different bkg samples and ak.concatenate them\n",
    "file_name_bkg = \"/eos/user/z/zhenxuan/hhwwgg_parquet/calibration/TTJets_HT-2500toInf_TuneCP5_13TeV_2017/merged_nominal.parquet\"\n",
    "events_bkg = read_files(file_name_bkg)\n",
    "file_name_bkg2 = \"/eos/user/z/zhenxuan/hhwwgg_parquet/calibration/TTJets_HT-1200to2500_TuneCP5_13TeV_2017/merged_nominal.parquet\"\n",
    "events_bkg2 = read_files(file_name_bkg2)\n",
    "file_name_bkg3 = \"/eos/user/z/zhenxuan/hhwwgg_parquet/calibration/TTJets_HT-600to800_TuneCP5_13TeV_2017/merged_nominal.parquet\"\n",
    "events_bkg3 = read_files(file_name_bkg3)\n",
    "events_bkg = ak.concatenate([events_bkg, events_bkg2, events_bkg3], axis=0)\n",
    "# add signal samples\n",
    "file_name_signal = \"/eos/user/z/zhenxuan/hhwwgg_parquet/calibration/UL17_R_gghh_M-2200_2017/merged_nominal.parquet\"\n",
    "events_sig = read_files(file_name_signal)"
   ]
  },
  {
   "cell_type": "code",
   "execution_count": 54,
   "metadata": {},
   "outputs": [
    {
     "data": {
      "image/png": "[encoded data removed]",
      "text/plain": [
       "<Figure size 432x288 with 1 Axes>"
      ]
     },
     "metadata": {
      "needs_background": "light"
     },
     "output_type": "display_data"
    }
   ],
   "source": [
    "# write a function to plot the PN score distribution for signal and bkg\n",
    "def plot_PN_score_signal_bkg(events_bkg, events_sig,variable):\n",
    "    # add a mask to require the PN score > -999\n",
    "    mask_bkg = (events_bkg[variable] > -999) & (events_bkg['fatjet_H_1_msoftdrop'] > 120)\n",
    "    mask_sig = events_sig[variable] > -999 & (events_sig['fatjet_H_1_msoftdrop'] > 120)\n",
    "    plt.hist(events_bkg[variable][mask_bkg], weights = events_bkg['weight_central'][mask_bkg], histtype=\"step\", density=True, label=\"bkg\",bins=50)\n",
    "    plt.hist(events_sig[variable][mask_sig], weights = events_sig['weight_central'][mask_sig], histtype=\"step\", density=True, label=\"sig\",bins=50)\n",
    "    plt.legend()\n",
    "    plt.xlabel(\"PN score\")\n",
    "    plt.ylabel(\"a.u.\")\n",
    "    plt.title(\"PN score distribution for signal and bkg\")\n",
    "plot_PN_score_signal_bkg(events_bkg, events_sig,variable=\"fatjet_H_1_Hqqqq_vsQCDTop\")\n",
    "# plot_PN_score_signal_bkg(events_bkg, events_sig,variable=\"fatjet_H_1_Hqqqq_qqlv_vsQCDTop\")\n",
    "# plot_PN_score_signal_bkg(events_bkg, events_sig,variable=\"fatjet_H_1_Hlvqq_vsQCDTop\")"
   ]
  },
  {
   "cell_type": "code",
   "execution_count": null,
   "metadata": {},
   "outputs": [],
   "source": []
  }
 ],
 "metadata": {
  "kernelspec": {
   "display_name": "Python 3.10.4 ('higgs-dna')",
   "language": "python",
   "name": "python3"
  },
  "language_info": {
   "codemirror_mode": {
    "name": "ipython",
    "version": 3
   },
   "file_extension": ".py",
   "mimetype": "text/x-python",
   "name": "python",
   "nbconvert_exporter": "python",
   "pygments_lexer": "ipython3",
   "version": "3.10.4"
  },
  "orig_nbformat": 4,
  "vscode": {
   "interpreter": {
    "hash": "61a04d2e8d38f75e3769873c3019d1509bf07db114c761b53d1b207dd9abb9bf"
   }
  }
 },
 "nbformat": 4,
 "nbformat_minor": 2
}
