{
 "cells": [
  {
   "cell_type": "code",
   "execution_count": 6,
   "id": "ce842885",
   "metadata": {},
   "outputs": [],
   "source": [
    "import awkward as ak\n",
    "import pyarrow as pa\n",
    "import pyarrow.csv\n",
    "import urllib.request\n",
    "import matplotlib.pyplot as plt\n",
    "import matplotlib.colors as mcolors"
   ]
  },
  {
   "cell_type": "code",
   "execution_count": 2,
   "id": "09a4d904",
   "metadata": {},
   "outputs": [
    {
     "name": "stderr",
     "output_type": "stream",
     "text": [
      "/eos/user/z/zhenxuan/higgs-dna/lib/python3.10/site-packages/awkward/operations/convert.py:1999: DeprecationWarning: distutils Version classes are deprecated. Use packaging.version instead.\n",
      "  if distutils.version.LooseVersion(\n",
      "/eos/user/z/zhenxuan/higgs-dna/lib/python3.10/site-packages/awkward/operations/convert.py:2001: DeprecationWarning: distutils Version classes are deprecated. Use packaging.version instead.\n",
      "  ) < distutils.version.LooseVersion(\"2.0.0\"):\n"
     ]
    }
   ],
   "source": [
    "events = ak.from_parquet(\"merged_nominal.parquet\")"
   ]
  },
  {
   "cell_type": "code",
   "execution_count": null,
   "id": "5c7269d0",
   "metadata": {},
   "outputs": [],
   "source": [
    "events.keys()"
   ]
  },
  {
   "cell_type": "code",
   "execution_count": 12,
   "id": "6ca08d0b",
   "metadata": {},
   "outputs": [
    {
     "data": {
      "text/plain": [
       "<matplotlib.legend.Legend at 0x7ff3bf173f40>"
      ]
     },
     "execution_count": 12,
     "metadata": {},
     "output_type": "execute_result"
    },
    {
     "data": {
      "image/png": "[encoded data removed]",
      "text/plain": [
       "<Figure size 432x288 with 1 Axes>"
      ]
     },
     "metadata": {
      "needs_background": "light"
     },
     "output_type": "display_data"
    }
   ],
   "source": [
    "pick_color = list(mcolors.TABLEAU_COLORS)\n",
    "minx = 0\n",
    "maxx = 200\n",
    "name_list = [\"Diphoton_mass\"]\n",
    "all_list = [events.Diphoton_mass]\n",
    "for i in range(0,len(all_list)):\n",
    "    plt.hist(all_list[i],\n",
    "             bins=100,\n",
    "                range=(minx,maxx),\n",
    "                label=name_list[i],\n",
    "                fill=False,\n",
    "                linewidth=2,\n",
    "                edgecolor=pick_color[i],\n",
    "                histtype='step'\n",
    "                )\n",
    "plt.xlabel(\"mass\")\n",
    "# plt.xlabel(r\"$pT(GeV)$\")\n",
    "plt.ylabel(\"number of events\")\n",
    "# plt.title(\"Order with Pt\")\n",
    "plt.title(\"tth_M125\")\n",
    "# plt.title(\"Higgs mass\")\n",
    "plt.legend(loc=1,fontsize=10)\n",
    "# plt.axvline(x = 125, color = 'r',label=\"M = 125\",linestyle =\"--\")\n",
    "plt.legend(loc=1,fontsize=10)"
   ]
  },
  {
   "cell_type": "code",
   "execution_count": null,
   "id": "5b2c9146",
   "metadata": {},
   "outputs": [],
   "source": []
  }
 ],
 "metadata": {
  "kernelspec": {
   "display_name": "Python 3 (ipykernel)",
   "language": "python",
   "name": "python3"
  },
  "language_info": {
   "codemirror_mode": {
    "name": "ipython",
    "version": 3
   },
   "file_extension": ".py",
   "mimetype": "text/x-python",
   "name": "python",
   "nbconvert_exporter": "python",
   "pygments_lexer": "ipython3",
   "version": "3.10.2"
  }
 },
 "nbformat": 4,
 "nbformat_minor": 5
}
