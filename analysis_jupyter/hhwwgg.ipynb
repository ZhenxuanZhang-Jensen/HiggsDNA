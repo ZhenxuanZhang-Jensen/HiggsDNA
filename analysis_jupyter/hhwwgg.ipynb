{
 "cells": [
  {
   "cell_type": "code",
   "execution_count": 142,
   "id": "bdcf4b11",
   "metadata": {},
   "outputs": [],
   "source": [
    "import uproot\n",
    "import awkward as ak\n",
    "import matplotlib.pyplot as plt\n",
    "import pandas as pd\n",
    "import matplotlib.pyplot as plt\n",
    "import matplotlib.colors as mcolors\n",
    "import numpy as np\n",
    "import sys\n",
    "from operator import add\n",
    "from functools import reduce\n",
    "import mplhep as hep\n",
    "plt.style.use([hep.style.CMS])\n",
    "import vector\n",
    "vector.register_awkward()"
   ]
  },
  {
   "cell_type": "code",
   "execution_count": 143,
   "id": "ab4151f3",
   "metadata": {},
   "outputs": [],
   "source": [
    "# import all the file we need\n",
    "events = ak.from_parquet(\"/eos/user/z/zhenxuan/hhwwgg/merged_nominal.parquet\")\n",
    "events_nano = uproot.open(\"root://cms-xrd-global.cern.ch//store/mc/RunIIFall17NanoAODv7/GluGluToRadionToHHTo2G4Q_M-300_narrow_TuneCP5_PSWeights_13TeV-madgraph-pythia8/NANOAODSIM/PU2017_12Apr2018_Nano02Apr2020_102X_mc2017_realistic_v8-v1/250000/84A472F4-0A01-8142-A979-BB10929C783D.root\")"
   ]
  },
  {
   "cell_type": "code",
   "execution_count": 144,
   "id": "e284b0d8",
   "metadata": {},
   "outputs": [],
   "source": [
    "events_nano = uproot.open(\"root://cms-xrd-global.cern.ch//store/mc/RunIIFall17NanoAODv7/GluGluToRadionToHHTo2G4Q_M-300_narrow_TuneCP5_PSWeights_13TeV-madgraph-pythia8/NANOAODSIM/PU2017_12Apr2018_Nano02Apr2020_102X_mc2017_realistic_v8-v1/250000/84A472F4-0A01-8142-A979-BB10929C783D.root\")\n",
    "events_nano = events_nano[\"Events\"].arrays([\"Photon_pt\", \"Photon_eta\", \"Photon_phi\", \"Photon_mass\",\n",
    "        \"Photon_pixelSeed\", \"Photon_mvaID\", \"Photon_electronVeto\",\n",
    "        \"Photon_sieie\",\n",
    "        \"Photon_r9\", \"Photon_hoe\", \"Photon_pfRelIso03_chg\", \"Photon_pfRelIso03_all\",\n",
    "        \"Photon_isScEtaEB\", \"Photon_isScEtaEE\",\"Photon_genPartFlav\"],library='ak',how=\"zip\")"
   ]
  },
  {
   "cell_type": "code",
   "execution_count": 147,
   "id": "d1f6b4e2",
   "metadata": {},
   "outputs": [
    {
     "data": {
      "text/plain": [
       "<Array [[], [], [], [], ... [], [], [], []] type='19792 * var * float32'>"
      ]
     },
     "execution_count": 147,
     "metadata": {},
     "output_type": "execute_result"
    }
   ],
   "source": [
    "events_nano.Photon.pt[events_nano.Photon.pt>200]"
   ]
  },
  {
   "cell_type": "code",
   "execution_count": 54,
   "id": "53025bea",
   "metadata": {},
   "outputs": [
    {
     "ename": "AttributeError",
     "evalue": "'list' object has no attribute 'close'",
     "output_type": "error",
     "traceback": [
      "\u001b[0;31m---------------------------------------------------------------------------\u001b[0m",
      "\u001b[0;31mAttributeError\u001b[0m                            Traceback (most recent call last)",
      "\u001b[1;32m/afs/cern.ch/user/z/zhenxuan/HiggsDNA/analysis_jupyter/hhwwgg.ipynb Cell 6'\u001b[0m in \u001b[0;36m<cell line: 8>\u001b[0;34m()\u001b[0m\n\u001b[1;32m      <a href='vscode-notebook-cell://ssh-remote%2Blxplus.cern.ch/afs/cern.ch/user/z/zhenxuan/HiggsDNA/analysis_jupyter/hhwwgg.ipynb#ch0000049vscode-remote?line=5'>6</a>\u001b[0m     events_number\u001b[39m.\u001b[39mappend(\u001b[39mint\u001b[39m(p[i]\u001b[39m.\u001b[39msplit(\u001b[39m\"\u001b[39m\u001b[39mLoaded\u001b[39m\u001b[39m\"\u001b[39m)[\u001b[39m-\u001b[39m\u001b[39m1\u001b[39m]\u001b[39m.\u001b[39msplit(\u001b[39m\"\u001b[39m\u001b[39mevents\u001b[39m\u001b[39m\"\u001b[39m)[\u001b[39m0\u001b[39m]))\n\u001b[1;32m      <a href='vscode-notebook-cell://ssh-remote%2Blxplus.cern.ch/afs/cern.ch/user/z/zhenxuan/HiggsDNA/analysis_jupyter/hhwwgg.ipynb#ch0000049vscode-remote?line=6'>7</a>\u001b[0m \u001b[39msum\u001b[39m(events_number)\n\u001b[0;32m----> <a href='vscode-notebook-cell://ssh-remote%2Blxplus.cern.ch/afs/cern.ch/user/z/zhenxuan/HiggsDNA/analysis_jupyter/hhwwgg.ipynb#ch0000049vscode-remote?line=7'>8</a>\u001b[0m p\u001b[39m.\u001b[39;49mclose()\n",
      "\u001b[0;31mAttributeError\u001b[0m: 'list' object has no attribute 'close'"
     ]
    }
   ],
   "source": [
    "# get the whole events number\n",
    "import os \n",
    "p = os.popen(cmd).readlines()\n",
    "events_number = []\n",
    "for i in range(len(p)):\n",
    "    events_number.append(int(p[i].split(\"Loaded\")[-1].split(\"events\")[0]))\n",
    "sum(events_number)"
   ]
  },
  {
   "cell_type": "code",
   "execution_count": 52,
   "id": "00930c94",
   "metadata": {},
   "outputs": [
    {
     "data": {
      "text/plain": [
       "288160"
      ]
     },
     "execution_count": 52,
     "metadata": {},
     "output_type": "execute_result"
    }
   ],
   "source": [
    "# get the whole events number\n",
    "import os \n",
    "cmd = 'grep \"load_events\" /eos/user/z/zhenxuan/hhwwgg/GluGluToRadionToHHTo2G4Q_M300_2017/*/*.log'\n",
    "p = os.popen(cmd).readlines()\n",
    "events_number = []\n",
    "for i in range(len(p)):\n",
    "    events_number.append(int(p[i].split(\"Loaded\")[-1].split(\"events\")[0]))\n",
    "sum(events_number)"
   ]
  },
  {
   "cell_type": "code",
   "execution_count": 139,
   "id": "d549a456",
   "metadata": {},
   "outputs": [
    {
     "name": "stdout",
     "output_type": "stream",
     "text": [
      "all events: 288160\n",
      "Photon numbers:108592 Photon Selection eff: 0.376850\n",
      "Lepton numbers:108489 Lepton Selection eff: 0.376492\n",
      "Jet numbers:42982 Jet Selection eff: 0.149163\n"
     ]
    }
   ],
   "source": [
    "# get all events eff with combine all the log file together\n",
    "import os \n",
    "import numpy as np\n",
    "cmd_events = 'grep \"load_events\" /eos/user/z/zhenxuan/hhwwgg/GluGluToRadionToHHTo2G4Q_M300_2017/*/*.log'\n",
    "cmd_HHWWtagger_events = 'grep \"my_HHWW_Preselection : event set\" /eos/user/z/zhenxuan/hhwwgg/GluGluToRadionToHHTo2G4Q_M300_2017/*/*.log'\n",
    "cmd_photon = 'grep \"Photon Selection\" /eos/user/z/zhenxuan/hhwwgg/GluGluToRadionToHHTo2G4Q_M300_2017/*/*.log'\n",
    "cmd_lepton = 'grep \"Lepton Selection\" /eos/user/z/zhenxuan/hhwwgg/GluGluToRadionToHHTo2G4Q_M300_2017/*/*.log'\n",
    "cmd_jet = 'grep \"OnlyFourJet_category\" /eos/user/z/zhenxuan/hhwwgg/GluGluToRadionToHHTo2G4Q_M300_2017/*/*.log'\n",
    "events = os.popen(cmd_events).readlines()\n",
    "HHWWtagger_events = os.popen(cmd_HHWWtagger_events).readlines()\n",
    "photon = os.popen(cmd_photon).readlines()\n",
    "lepton = os.popen(cmd_lepton).readlines()\n",
    "jet = os.popen(cmd_jet).readlines()\n",
    "events_number = []\n",
    "HHWWtagger_events_number = []\n",
    "Photon_eff = []\n",
    "Lepton_eff = []\n",
    "Jet_eff = []\n",
    "Jet_eff = []\n",
    "for i in range(len(events)):\n",
    "    events_number.append(int(events[i].split(\"Loaded\")[-1].split(\"events\")[0]))\n",
    "    HHWWtagger_events_number.append(float(HHWWtagger_events[i].split('(')[0].split()[-1]))\n",
    "    Photon_eff.append(float(HHWWtagger_events[i].split('(')[0].split()[-1]) * float(photon[i].split(':')[-2].split(' ')[1])/int(events[i].split(\"Loaded\")[-1].split(\"events\")[0]) )\n",
    "    Lepton_eff.append(float(HHWWtagger_events[i].split('(')[0].split()[-1]) * float(lepton[i].split(':')[-2].split(' ')[1])/int(events[i].split(\"Loaded\")[-1].split(\"events\")[0]) )\n",
    "    Jet_eff.append(float(jet[i].split(':')[-2].split(' ')[1]))\n",
    "Photon_eff = float(np.mean(Photon_eff))\n",
    "Lepton_eff = float(np.mean(Lepton_eff))\n",
    "Jet_eff = float(np.mean(Jet_eff))\n",
    "all_HHWWtagger_events = float(np.sum(HHWWtagger_events_number))\n",
    "all_events = float(np.sum(events_number))\n",
    "print(\"all events: %i\" %(all_events) )\n",
    "print(\"Photon numbers:%i\" %(all_events*Photon_eff), \"Photon Selection eff: %f\" %(Photon_eff) )\n",
    "print(\"Lepton numbers:%i\" %(all_events*Lepton_eff), \"Lepton Selection eff: %f\" %(Lepton_eff) )\n",
    "print(\"Jet numbers:%i\" %(all_HHWWtagger_events*Jet_eff), \"Jet Selection eff: %f\" %(all_HHWWtagger_events*Jet_eff / all_events) )\n"
   ]
  },
  {
   "cell_type": "code",
   "execution_count": 3,
   "id": "e8987e62",
   "metadata": {},
   "outputs": [
    {
     "name": "stdout",
     "output_type": "stream",
     "text": [
      "===================================================\n"
     ]
    },
    {
     "ename": "KeyboardInterrupt",
     "evalue": "",
     "output_type": "error",
     "traceback": [
      "\u001b[0;31m---------------------------------------------------------------------------\u001b[0m",
      "\u001b[0;31mKeyboardInterrupt\u001b[0m                         Traceback (most recent call last)",
      "\u001b[1;32m/afs/cern.ch/user/z/zhenxuan/HiggsDNA/analysis_jupyter/hhwwgg.ipynb Cell 8'\u001b[0m in \u001b[0;36m<cell line: 21>\u001b[0;34m()\u001b[0m\n\u001b[1;32m     <a href='vscode-notebook-cell://ssh-remote%2Blxplus.cern.ch/afs/cern.ch/user/z/zhenxuan/HiggsDNA/analysis_jupyter/hhwwgg.ipynb#ch0000007vscode-remote?line=18'>19</a>\u001b[0m     \u001b[39mreturn\u001b[39;00m output\n\u001b[1;32m     <a href='vscode-notebook-cell://ssh-remote%2Blxplus.cern.ch/afs/cern.ch/user/z/zhenxuan/HiggsDNA/analysis_jupyter/hhwwgg.ipynb#ch0000007vscode-remote?line=19'>20</a>\u001b[0m cmd \u001b[39m=\u001b[39m \u001b[39m'\u001b[39m\u001b[39mdasgoclient --query=\u001b[39m\u001b[39m\"\u001b[39m\u001b[39mfile dataset=/QCD_HT500to700_TuneCP5_13TeV-madgraph-pythia8/RunIIFall17NanoAODv7-PU2017_12Apr2018_Nano02Apr2020_102X_mc2017_realistic_v8-v1/NANOAODSIM\u001b[39m\u001b[39m\"\u001b[39m\u001b[39m'\u001b[39m\n\u001b[0;32m---> <a href='vscode-notebook-cell://ssh-remote%2Blxplus.cern.ch/afs/cern.ch/user/z/zhenxuan/HiggsDNA/analysis_jupyter/hhwwgg.ipynb#ch0000007vscode-remote?line=20'>21</a>\u001b[0m root_files \u001b[39m=\u001b[39m processCmd(cmd)\n\u001b[1;32m     <a href='vscode-notebook-cell://ssh-remote%2Blxplus.cern.ch/afs/cern.ch/user/z/zhenxuan/HiggsDNA/analysis_jupyter/hhwwgg.ipynb#ch0000007vscode-remote?line=21'>22</a>\u001b[0m \u001b[39mprint\u001b[39m(root_files)\n",
      "\u001b[1;32m/afs/cern.ch/user/z/zhenxuan/HiggsDNA/analysis_jupyter/hhwwgg.ipynb Cell 8'\u001b[0m in \u001b[0;36mprocessCmd\u001b[0;34m(cmd, quiet)\u001b[0m\n\u001b[1;32m      <a href='vscode-notebook-cell://ssh-remote%2Blxplus.cern.ch/afs/cern.ch/user/z/zhenxuan/HiggsDNA/analysis_jupyter/hhwwgg.ipynb#ch0000007vscode-remote?line=6'>7</a>\u001b[0m p \u001b[39m=\u001b[39m Popen(cmd, shell\u001b[39m=\u001b[39m\u001b[39mTrue\u001b[39;00m, stdout\u001b[39m=\u001b[39mPIPE, stderr\u001b[39m=\u001b[39mSTDOUT, bufsize\u001b[39m=\u001b[39m\u001b[39m-\u001b[39m\u001b[39m1\u001b[39m)\n\u001b[1;32m      <a href='vscode-notebook-cell://ssh-remote%2Blxplus.cern.ch/afs/cern.ch/user/z/zhenxuan/HiggsDNA/analysis_jupyter/hhwwgg.ipynb#ch0000007vscode-remote?line=7'>8</a>\u001b[0m \u001b[39mfor\u001b[39;00m line \u001b[39min\u001b[39;00m \u001b[39miter\u001b[39m(p\u001b[39m.\u001b[39mstdout\u001b[39m.\u001b[39mreadline, \u001b[39m'\u001b[39m\u001b[39m'\u001b[39m):\n\u001b[0;32m----> <a href='vscode-notebook-cell://ssh-remote%2Blxplus.cern.ch/afs/cern.ch/user/z/zhenxuan/HiggsDNA/analysis_jupyter/hhwwgg.ipynb#ch0000007vscode-remote?line=8'>9</a>\u001b[0m     output\u001b[39m=\u001b[39moutput\u001b[39m+\u001b[39m\u001b[39mstr\u001b[39;49m(line)\n\u001b[1;32m     <a href='vscode-notebook-cell://ssh-remote%2Blxplus.cern.ch/afs/cern.ch/user/z/zhenxuan/HiggsDNA/analysis_jupyter/hhwwgg.ipynb#ch0000007vscode-remote?line=9'>10</a>\u001b[0m p\u001b[39m.\u001b[39mstdout\u001b[39m.\u001b[39mclose()\n\u001b[1;32m     <a href='vscode-notebook-cell://ssh-remote%2Blxplus.cern.ch/afs/cern.ch/user/z/zhenxuan/HiggsDNA/analysis_jupyter/hhwwgg.ipynb#ch0000007vscode-remote?line=11'>12</a>\u001b[0m \u001b[39mif\u001b[39;00m p\u001b[39m.\u001b[39mwait() \u001b[39m!=\u001b[39m \u001b[39m0\u001b[39m:\n",
      "\u001b[0;31mKeyboardInterrupt\u001b[0m: "
     ]
    }
   ],
   "source": [
    "cmd = 'dasgoclient --query=\"file dataset=/QCD_HT500to700_TuneCP5_13TeV-madgraph-pythia8/RunIIFall17NanoAODv7-PU2017_12Apr2018_Nano02Apr2020_102X_mc2017_realistic_v8-v1/NANOAODSIM\"'\n",
    "root_files = os.popen(cmd).readlines()\n",
    "print(root_files)"
   ]
  },
  {
   "cell_type": "code",
   "execution_count": 2,
   "id": "77886c5d",
   "metadata": {},
   "outputs": [
    {
     "data": {
      "text/plain": [
       "'/store/mc/RunIIFall17NanoAODv7/QCD_HT500to700_TuneCP5_13TeV-madgraph-pythia8/NANOAODSIM/PU2017_12Apr2018_Nano02Apr2020_102X_mc2017_realistic_v8-v1/60000/169BC0BF-5437-4C4A-A10A-A9FD01852E26.root\\n'"
      ]
     },
     "execution_count": 2,
     "metadata": {},
     "output_type": "execute_result"
    }
   ],
   "source": [
    "for i in range(root_files):\n",
    "    root_files[0]"
   ]
  },
  {
   "cell_type": "code",
   "execution_count": 129,
   "id": "0107cff6",
   "metadata": {},
   "outputs": [
    {
     "data": {
      "text/plain": [
       "[9181.0,\n",
       " 9181.0,\n",
       " 9181.0,\n",
       " 9181.0,\n",
       " 9181.0,\n",
       " 9181.0,\n",
       " 9181.0,\n",
       " 9181.0,\n",
       " 9181.0,\n",
       " 9181.0,\n",
       " 9181.0]"
      ]
     },
     "execution_count": 129,
     "metadata": {},
     "output_type": "execute_result"
    }
   ],
   "source": [
    "HHWWtagger_events_number"
   ]
  },
  {
   "cell_type": "code",
   "execution_count": 114,
   "id": "de7b734d",
   "metadata": {},
   "outputs": [
    {
     "name": "stdout",
     "output_type": "stream",
     "text": [
      "0\n",
      "1\n",
      "2\n",
      "3\n",
      "4\n",
      "5\n",
      "6\n",
      "7\n",
      "8\n",
      "9\n",
      "10\n",
      "11\n",
      "12\n",
      "13\n",
      "14\n",
      "15\n",
      "16\n",
      "17\n",
      "18\n",
      "19\n",
      "20\n",
      "21\n",
      "22\n",
      "23\n",
      "24\n",
      "25\n",
      "26\n",
      "27\n",
      "28\n",
      "29\n",
      "30\n",
      "31\n",
      "32\n",
      "33\n",
      "34\n",
      "35\n",
      "36\n",
      "37\n",
      "38\n",
      "39\n",
      "40\n",
      "41\n",
      "42\n",
      "43\n",
      "44\n",
      "45\n",
      "46\n",
      "47\n",
      "48\n",
      "49\n",
      "50\n",
      "51\n",
      "52\n",
      "53\n",
      "54\n",
      "55\n",
      "56\n",
      "57\n",
      "58\n",
      "59\n",
      "60\n",
      "61\n",
      "62\n",
      "63\n",
      "64\n",
      "65\n",
      "66\n",
      "67\n",
      "68\n",
      "69\n",
      "70\n",
      "71\n",
      "72\n",
      "73\n",
      "74\n",
      "75\n",
      "76\n",
      "77\n",
      "78\n",
      "79\n",
      "80\n",
      "81\n",
      "82\n",
      "83\n",
      "84\n",
      "85\n",
      "86\n",
      "87\n",
      "88\n"
     ]
    }
   ],
   "source": [
    "for i in range(len(cmd_events)):\n",
    "    print(i)"
   ]
  },
  {
   "cell_type": "code",
   "execution_count": 117,
   "id": "50a4e86a",
   "metadata": {},
   "outputs": [
    {
     "data": {
      "text/plain": [
       "'grep \"load_events\" /eos/user/z/zhenxuan/hhwwgg/GluGluToRadionToHHTo2G4Q_M300_2017/*/*.log'"
      ]
     },
     "execution_count": 117,
     "metadata": {},
     "output_type": "execute_result"
    }
   ],
   "source": [
    "cmd_events"
   ]
  },
  {
   "cell_type": "code",
   "execution_count": 113,
   "id": "d7d8505a",
   "metadata": {},
   "outputs": [
    {
     "ename": "IndexError",
     "evalue": "list index out of range",
     "output_type": "error",
     "traceback": [
      "\u001b[0;31m---------------------------------------------------------------------------\u001b[0m",
      "\u001b[0;31mIndexError\u001b[0m                                Traceback (most recent call last)",
      "\u001b[1;32m/afs/cern.ch/user/z/zhenxuan/HiggsDNA/analysis_jupyter/hhwwgg.ipynb Cell 8'\u001b[0m in \u001b[0;36m<cell line: 3>\u001b[0;34m()\u001b[0m\n\u001b[1;32m      <a href='vscode-notebook-cell://ssh-remote%2Blxplus.cern.ch/afs/cern.ch/user/z/zhenxuan/HiggsDNA/analysis_jupyter/hhwwgg.ipynb#ch0000054vscode-remote?line=0'>1</a>\u001b[0m cmd_events \u001b[39m=\u001b[39m \u001b[39m'\u001b[39m\u001b[39mgrep \u001b[39m\u001b[39m\"\u001b[39m\u001b[39mload_events\u001b[39m\u001b[39m\"\u001b[39m\u001b[39m /eos/user/z/zhenxuan/hhwwgg/GluGluToRadionToHHTo2G4Q_M300_2017/*/*.log\u001b[39m\u001b[39m'\u001b[39m\n\u001b[1;32m      <a href='vscode-notebook-cell://ssh-remote%2Blxplus.cern.ch/afs/cern.ch/user/z/zhenxuan/HiggsDNA/analysis_jupyter/hhwwgg.ipynb#ch0000054vscode-remote?line=1'>2</a>\u001b[0m events \u001b[39m=\u001b[39m os\u001b[39m.\u001b[39mpopen(cmd_events)\u001b[39m.\u001b[39mreadlines()\n\u001b[0;32m----> <a href='vscode-notebook-cell://ssh-remote%2Blxplus.cern.ch/afs/cern.ch/user/z/zhenxuan/HiggsDNA/analysis_jupyter/hhwwgg.ipynb#ch0000054vscode-remote?line=2'>3</a>\u001b[0m events[i]\n",
      "\u001b[0;31mIndexError\u001b[0m: list index out of range"
     ]
    }
   ],
   "source": [
    "cmd_events = 'grep \"load_events\" /eos/user/z/zhenxuan/hhwwgg/GluGluToRadionToHHTo2G4Q_M300_2017/*/*.log'\n",
    "events = os.popen(cmd_events).readlines()\n",
    "events[i]"
   ]
  },
  {
   "cell_type": "code",
   "execution_count": 106,
   "id": "be504483",
   "metadata": {},
   "outputs": [
    {
     "data": {
      "text/plain": [
       "5030.0"
      ]
     },
     "execution_count": 106,
     "metadata": {},
     "output_type": "execute_result"
    }
   ],
   "source": [
    "cmd_HHWWtagger_events = 'grep \"my_HHWW_Preselection : event set\" /eos/user/z/zhenxuan/hhwwgg/GluGluToRadionToHHTo2G4Q_M300_2017/*/*.log'\n",
    "HHWWtagger_events = os.popen(cmd_HHWWtagger_events).readlines()\n",
    "float(HHWWtagger_events[0].split('(')[0].split()[-1])\n",
    "\n"
   ]
  },
  {
   "cell_type": "code",
   "execution_count": null,
   "id": "d084c839",
   "metadata": {},
   "outputs": [],
   "source": [
    "ak.num(events_nano.Photon.pt)"
   ]
  },
  {
   "cell_type": "code",
   "execution_count": null,
   "id": "9086f43f",
   "metadata": {},
   "outputs": [],
   "source": [
    "padded_objects = ak.pad_none(events['Photon'],4, clip=True)\n",
    "print(padded_objects)\n",
    "print(padded_objects[\"pt\"])\n",
    "data = ak.fill_none(padded_objects[\"pt\"][:,1], -999),\n",
    "print(data)\n"
   ]
  },
  {
   "cell_type": "code",
   "execution_count": null,
   "id": "eb7a849e",
   "metadata": {},
   "outputs": [],
   "source": [
    "events_nano[\"Events\"].keys()"
   ]
  },
  {
   "cell_type": "code",
   "execution_count": null,
   "id": "25263ff7",
   "metadata": {},
   "outputs": [],
   "source": [
    "events.fields"
   ]
  },
  {
   "cell_type": "code",
   "execution_count": null,
   "id": "43359dda",
   "metadata": {},
   "outputs": [],
   "source": [
    "ak.num(events.LeadPhoton)"
   ]
  },
  {
   "cell_type": "code",
   "execution_count": null,
   "id": "40337fce",
   "metadata": {},
   "outputs": [],
   "source": []
  },
  {
   "cell_type": "code",
   "execution_count": null,
   "id": "48ff48bc",
   "metadata": {},
   "outputs": [],
   "source": [
    "# test\n",
    "list_W1 = [\n",
    "jet1_invM+jet2_invM,jet1_invM+jet3_invM,jet1_invM+jet4_invM,jet1_invM+jet5_invM,jet1_invM+jet6_invM,\n",
    "jet2_invM+jet3_invM,jet2_invM+jet4_invM,jet2_invM+jet5_invM,jet2_invM+jet6_invM,\n",
    "jet3_invM+jet4_invM,jet3_invM+jet5_invM,jet3_invM+jet6_invM,\n",
    "jet4_invM+jet5_invM,jet4_invM+jet6_invM,\n",
    "jet5_invM+jet6_invM]"
   ]
  },
  {
   "cell_type": "code",
   "execution_count": null,
   "id": "507d3a2b",
   "metadata": {},
   "outputs": [],
   "source": []
  },
  {
   "cell_type": "markdown",
   "id": "5690ca5e",
   "metadata": {},
   "source": [
    "### TODO: Find the W mass but now only have closest to 80, need to add two others two close to 125"
   ]
  },
  {
   "cell_type": "code",
   "execution_count": null,
   "id": "616ab683",
   "metadata": {},
   "outputs": [],
   "source": [
    "# all 6 jet with 4D lorentz Vector\n",
    "jet1_invM = ak.zip(\n",
    "    {\n",
    "    \"pt\": events.jet_1_pt[:,0],\n",
    "    \"phi\": events.jet_1_phi[:,0],\n",
    "    \"eta\": events.jet_1_eta[:,0],\n",
    "    \"mass\": events.jet_1_mass[:,0]\n",
    "    }, with_name=\"Momentum4D\")\n",
    "jet2_invM = ak.zip(\n",
    "    {\n",
    "    \"pt\": events.jet_2_pt[:,0],\n",
    "    \"phi\": events.jet_2_phi[:,0],\n",
    "    \"eta\": events.jet_2_eta[:,0],\n",
    "    \"mass\": events.jet_2_mass[:,0]\n",
    "    }, with_name=\"Momentum4D\")\n",
    "jet3_invM = ak.zip(\n",
    "    {\n",
    "    \"pt\": events.jet_3_pt[:,0],\n",
    "    \"phi\": events.jet_3_phi[:,0],\n",
    "    \"eta\": events.jet_3_eta[:,0],\n",
    "    \"mass\": events.jet_3_mass[:,0]\n",
    "    }, with_name=\"Momentum4D\")\n",
    "jet4_invM = ak.zip(\n",
    "    {\n",
    "    \"pt\": events.jet_4_pt[:,0],\n",
    "    \"phi\": events.jet_4_phi[:,0],\n",
    "    \"eta\": events.jet_4_eta[:,0],\n",
    "    \"mass\": events.jet_4_mass[:,0]\n",
    "    }, with_name=\"Momentum4D\")\n",
    "jet5_invM = ak.zip(\n",
    "    {\n",
    "    \"pt\": events.jet_5_pt[:,0],\n",
    "    \"phi\": events.jet_5_phi[:,0],\n",
    "    \"eta\": events.jet_5_eta[:,0],\n",
    "    \"mass\": events.jet_5_mass[:,0]\n",
    "    }, with_name=\"Momentum4D\")\n",
    "jet6_invM = ak.zip(\n",
    "    {\n",
    "    \"pt\": events.jet_6_pt[:,0],\n",
    "    \"phi\": events.jet_6_phi[:,0],\n",
    "    \"eta\": events.jet_6_eta[:,0],\n",
    "    \"mass\": events.jet_6_mass[:,0]\n",
    "    }, with_name=\"Momentum4D\")"
   ]
  },
  {
   "cell_type": "code",
   "execution_count": null,
   "id": "3c78e0c0",
   "metadata": {},
   "outputs": [],
   "source": [
    "Higgs = jet1_invM + jet2_invM + jet3_invM + jet4_invM"
   ]
  },
  {
   "cell_type": "code",
   "execution_count": null,
   "id": "8ccbdefb",
   "metadata": {},
   "outputs": [],
   "source": [
    "test[0][0].rho\n",
    "with open(\"file.txt\", \"w\") as output:\n",
    "    output.write(str(test[0][0].rho))"
   ]
  },
  {
   "cell_type": "code",
   "execution_count": null,
   "id": "90441000",
   "metadata": {},
   "outputs": [],
   "source": [
    "CountJet1 = 0\n",
    "CountJet2 = CountJet1 + 1\n",
    "nTagJets = len(jet1_invM[0,:])\n",
    "for CountJet1 in len(nTagJets):\n",
    "    for CountJet2 in len(nTagJets):"
   ]
  },
  {
   "cell_type": "code",
   "execution_count": null,
   "id": "51101b9d",
   "metadata": {},
   "outputs": [],
   "source": [
    "# test\n",
    "array_alljets1 = [jet1_invM,jet2_invM,jet3_invM,jet4_invM,jet5_invM,jet6_invM]\n",
    "array_alljets = []"
   ]
  },
  {
   "cell_type": "code",
   "execution_count": null,
   "id": "31e8b6b0",
   "metadata": {},
   "outputs": [],
   "source": [
    "for i in range(6):\n",
    "    for j in range(6):\n",
    "        array_alljets.append(array_alljets1[i]+array_alljets2[j])"
   ]
  },
  {
   "cell_type": "code",
   "execution_count": null,
   "id": "588c0be7",
   "metadata": {},
   "outputs": [],
   "source": [
    "# test\n",
    "a = [[1,2,3],[4,5,6]]\n",
    "print(a[0][1])\n",
    "b = ak.Array([[1,2,3],[4,5,6]])\n",
    "print(b[0][1])"
   ]
  },
  {
   "cell_type": "code",
   "execution_count": null,
   "id": "0c6f4f48",
   "metadata": {},
   "outputs": [],
   "source": [
    "array_alljets = [\n",
    "    [array_alljets1[0]+array_alljets1[0],array_alljets1[0]+array_alljets1[1],array_alljets1[0]+array_alljets1[2],array_alljets1[0]+array_alljets1[3],array_alljets1[0]+array_alljets1[4],array_alljets1[0]+array_alljets1[5]],\n",
    "    [array_alljets1[1]+array_alljets1[1],array_alljets1[1]+array_alljets1[1],array_alljets1[1]+array_alljets1[2],array_alljets1[1]+array_alljets1[3],array_alljets1[1]+array_alljets1[4],array_alljets1[1]+array_alljets1[5]],\n",
    "    [array_alljets1[2]+array_alljets1[2],array_alljets1[2]+array_alljets1[1],array_alljets1[2]+array_alljets1[2],array_alljets1[2]+array_alljets1[3],array_alljets1[2]+array_alljets1[4],array_alljets1[2]+array_alljets1[5]],\n",
    "    [array_alljets1[3]+array_alljets1[3],array_alljets1[3]+array_alljets1[1],array_alljets1[3]+array_alljets1[2],array_alljets1[3]+array_alljets1[3],array_alljets1[3]+array_alljets1[4],array_alljets1[3]+array_alljets1[5]],\n",
    "    [array_alljets1[4]+array_alljets1[4],array_alljets1[4]+array_alljets1[1],array_alljets1[4]+array_alljets1[2],array_alljets1[4]+array_alljets1[3],array_alljets1[4]+array_alljets1[4],array_alljets1[4]+array_alljets1[5]],\n",
    "    [array_alljets1[5]+array_alljets1[5],array_alljets1[5]+array_alljets1[1],array_alljets1[5]+array_alljets1[2],array_alljets1[5]+array_alljets1[3],array_alljets1[5]+array_alljets1[4],array_alljets1[5]+array_alljets1[5]]\n",
    "]"
   ]
  },
  {
   "cell_type": "code",
   "execution_count": null,
   "id": "b4031c90",
   "metadata": {},
   "outputs": [],
   "source": [
    "for i in range(200):\n",
    "    test = abs(np.nan_to_num(array_alljets[:,i].tau) - 80)\n",
    "    print(array_alljets[ak.argsort(test)[0],i].tau)"
   ]
  },
  {
   "cell_type": "code",
   "execution_count": null,
   "id": "bbd05e74",
   "metadata": {},
   "outputs": [],
   "source": [
    "# make W1 as awkward array\n",
    "W1 = ak.Array([jet1_invM+jet2_invM,jet1_invM+jet3_invM,jet1_invM+jet4_invM,jet1_invM+jet5_invM,jet1_invM+jet6_invM,\n",
    "jet2_invM+jet3_invM,jet2_invM+jet4_invM,jet2_invM+jet5_invM,jet2_invM+jet6_invM,\n",
    "jet3_invM+jet4_invM,jet3_invM+jet5_invM,jet3_invM+jet6_invM,\n",
    "jet4_invM+jet5_invM,jet4_invM+jet6_invM,\n",
    "jet5_invM+jet6_invM])\n"
   ]
  },
  {
   "cell_type": "code",
   "execution_count": null,
   "id": "53fb4a14",
   "metadata": {},
   "outputs": [],
   "source": [
    "W1[0].tau"
   ]
  },
  {
   "cell_type": "code",
   "execution_count": null,
   "id": "2a0b67eb",
   "metadata": {},
   "outputs": [],
   "source": [
    "for i in range(200):\n",
    "    test = abs(np.nan_to_num(W1[:,i].tau) - 80)\n",
    "    print(W1[ak.argsort(test)[0],i].tau)"
   ]
  },
  {
   "cell_type": "code",
   "execution_count": null,
   "id": "547c8bd3",
   "metadata": {},
   "outputs": [],
   "source": [
    "test = ak.Array([[80]*15]*23692)"
   ]
  },
  {
   "cell_type": "code",
   "execution_count": null,
   "id": "db44da55",
   "metadata": {},
   "outputs": [],
   "source": [
    "flatten_W1_mass = ak.flatten(W1.tau)"
   ]
  },
  {
   "cell_type": "code",
   "execution_count": null,
   "id": "8a584e16",
   "metadata": {},
   "outputs": [],
   "source": [
    "print(flatten_W1_mass)"
   ]
  },
  {
   "cell_type": "code",
   "execution_count": null,
   "id": "21818a49",
   "metadata": {},
   "outputs": [],
   "source": [
    "# test = ak.Array([[1,2,3],[5,6,7]])\n",
    "print(W1[0,:].tau)"
   ]
  },
  {
   "cell_type": "code",
   "execution_count": null,
   "id": "627c9d5f",
   "metadata": {},
   "outputs": [],
   "source": [
    "test = ak.Array([[1,2,3],[4,5,6]])"
   ]
  },
  {
   "cell_type": "code",
   "execution_count": null,
   "id": "7ffd3b72",
   "metadata": {},
   "outputs": [],
   "source": [
    "tmp_W1_mass = 80\n",
    "list_tmp_W1 = [jet1_invM+jet2_invM,jet1_invM+jet3_invM,jet1_invM+jet4_invM,jet1_invM+jet5_invM,jet1_invM+jet6_invM,\n",
    "jet2_invM+jet3_invM,jet2_invM+jet4_invM,jet2_invM+jet5_invM,jet2_invM+jet6_invM,\n",
    "jet3_invM+jet4_invM,jet3_invM+jet5_invM,jet3_invM+jet6_invM,\n",
    "jet4_invM+jet5_invM,jet4_invM+jet6_invM,\n",
    "jet5_invM+jet6_invM]\n",
    "list_W1 = []\n",
    "list_W1_pt = []\n",
    "list_W1_eta = []\n",
    "list_W1_phi = []\n",
    "list_W1_mass = []\n",
    "# events i , W1 index j\n",
    "for i in range(len(jet1_invM[:])):\n",
    "# for i in range(1):\n",
    "    min_deltaMass = 10000\n",
    "    for j in range(len(list_tmp_W1)):\n",
    "        # print(\"test\")\n",
    "        if(abs(list_tmp_W1[j].mass[i]-tmp_W1_mass) < min_deltaMass):\n",
    "            min_deltaMass = abs(list_tmp_W1[j].mass[i]-tmp_W1_mass)\n",
    "            index = j\n",
    "        \n",
    "    list_W1.append(list_tmp_W1[index][i])\n",
    "    list_W1_pt.append(list_tmp_W1[index][i].pt)\n",
    "    list_W1_eta.append(list_tmp_W1[index][i].eta)\n",
    "    list_W1_phi.append(list_tmp_W1[index][i].phi)\n",
    "    list_W1_mass.append(list_tmp_W1[index][i].mass)\n",
    "\n",
    "\n",
    "\n",
    "\n"
   ]
  },
  {
   "cell_type": "code",
   "execution_count": null,
   "id": "a65c758b",
   "metadata": {},
   "outputs": [],
   "source": [
    "len(jet1_invM[:])"
   ]
  },
  {
   "cell_type": "code",
   "execution_count": null,
   "id": "be3e441a",
   "metadata": {},
   "outputs": [],
   "source": [
    "list_W1__mass = []\n",
    "for i in range(len(list_W1)):\n",
    "    list_W1_mass.append(list_W1[i].mass)"
   ]
  },
  {
   "cell_type": "code",
   "execution_count": null,
   "id": "5287cd5d",
   "metadata": {},
   "outputs": [],
   "source": [
    "events.fatjet_1_pt[:,0]"
   ]
  },
  {
   "cell_type": "code",
   "execution_count": null,
   "id": "76abb2f6",
   "metadata": {},
   "outputs": [],
   "source": [
    "plt.hist(all_list[0])"
   ]
  },
  {
   "cell_type": "code",
   "execution_count": null,
   "id": "5bb2e2c5",
   "metadata": {},
   "outputs": [],
   "source": [
    "minx = 0\n",
    "maxx = 500\n",
    "array_jet5 = events.SelectedJet_pt[:,4:5]\n",
    "array_jet6 = events.SelectedJet_pt[:,5:6]\n",
    "array_jet7 = events.SelectedJet_pt[:,6:7]\n",
    "array_jet8 = events.SelectedJet_pt[:,7:8]\n",
    "pick_color = list(mcolors.TABLEAU_COLORS)\n",
    "# all_list = [events.SelectedJet_pt[:,0],events.SelectedJet_pt[:,1],events.SelectedJet_pt[:,2],events.SelectedJet_pt[:,3]]\n",
    "# all_list = [events.fatjet_1_pt[:,0][events.fatjet_1_pt[:,0]>0],events.fatjet_2_pt[:,0][events.fatjet_2_pt[:,0]>0],events.fatjet_3_pt[:,0][events.fatjet_3_pt[:,0]>0]]\n",
    "all_list = [Higgs.mass]\n",
    "# all_list = [events.fatjet_1_pt[:,0][events.fatjet_1_pt[:,0]>0]]\n",
    "# array_jet5[ak.num(array_jet5)>0][:,0],array_jet6[ak.num(array_jet6)>0][:,0],array_jet7[ak.num(array_jet7)>0][:,0],array_jet8[ak.num(array_jet8)>0][:,0]]\n",
    "# all_list = [reduce(add, events.SelectedJet_pt.to_list())]\n",
    "# name_list = [\"sig_pt1\",\"sig_pt2\",\"sig_pt3\",\"sig_pt4\",\"bkg_pt1\",\"bkg_pt2\",\"bkg_pt3\",\"bkg_pt4\"]\n",
    "name_list = [\"H_mass\"]\n",
    "# all_list = all_list_sig # for signal\n",
    "# all_lsit = all_list_bkg # for bkg\n",
    "hep.cms.label(rlabel='')\n",
    "for i in range(0,len(all_list)):\n",
    "    plt.hist(all_list[i],\n",
    "             bins=100,\n",
    "                range=(minx,maxx),\n",
    "                label=name_list[i],\n",
    "                fill=False,\n",
    "                linewidth=2,\n",
    "                edgecolor=pick_color[i],\n",
    "                histtype='step'\n",
    "                )\n",
    "plt.xlabel(\"mass\")\n",
    "# plt.xlabel(r\"$pT(GeV)$\")\n",
    "plt.ylabel(\"number of events\")\n",
    "# plt.title(\"Order with Pt\")\n",
    "# plt.title(\"with pt>15GeV cut\")\n",
    "# plt.title(\"Higgs mass\")\n",
    "plt.legend(loc=1,fontsize=20)\n",
    "# plt.axvline(x = 125, color = 'r',label=\"M = 125\",linestyle =\"--\")\n",
    "# plt.legend(loc=1,fontsize=10)"
   ]
  },
  {
   "cell_type": "markdown",
   "id": "98b9bc65",
   "metadata": {},
   "source": [
    "### the way to convert unregular ak.array to 1D list"
   ]
  },
  {
   "cell_type": "code",
   "execution_count": null,
   "id": "f81d1e11",
   "metadata": {},
   "outputs": [],
   "source": [
    "a = reduce(add, events.Diphoton_mass.to_list())"
   ]
  },
  {
   "cell_type": "markdown",
   "id": "366a4f3e",
   "metadata": {},
   "source": [
    "### plots the hist"
   ]
  },
  {
   "cell_type": "code",
   "execution_count": null,
   "id": "912fe92c",
   "metadata": {},
   "outputs": [],
   "source": [
    "array = events.SelectedJet_pt[:,4:5]\n",
    "array[ak.num(array)>0][:,0]"
   ]
  },
  {
   "cell_type": "code",
   "execution_count": null,
   "id": "b929d082",
   "metadata": {},
   "outputs": [],
   "source": [
    "minx = 0\n",
    "maxx = 100\n",
    "array_jet5 = events.SelectedJet_pt[:,4:5]\n",
    "array_jet6 = events.SelectedJet_pt[:,5:6]\n",
    "array_jet7 = events.SelectedJet_pt[:,6:7]\n",
    "array_jet8 = events.SelectedJet_pt[:,7:8]\n",
    "pick_color = list(mcolors.TABLEAU_COLORS)\n",
    "# all_list = [events.SelectedJet_pt[:,0],events.SelectedJet_pt[:,1],events.SelectedJet_pt[:,2],events.SelectedJet_pt[:,3],\n",
    "# array_jet5[ak.num(array_jet5)>0][:,0],array_jet6[ak.num(array_jet6)>0][:,0],array_jet7[ak.num(array_jet7)>0][:,0],array_jet8[ak.num(array_jet8)>0][:,0]]\n",
    "all_list = [events.SelectedJet_pt[:,0],events.SelectedJet_pt[:,1],events.SelectedJet_pt[:,2],events.SelectedJet_pt[:,3]]\n",
    "# all_list = [reduce(add, events.SelectedJet_pt.to_list())]\n",
    "name_list = [\"sig_pt1\",\"sig_pt2\",\"sig_pt3\",\"sig_pt4\",\"bkg_pt1\",\"bkg_pt2\",\"bkg_pt3\",\"bkg_pt4\"]\n",
    "# all_list = all_list_sig # for signal\n",
    "# all_lsit = all_list_bkg # for bkg\n",
    "hep.cms.label(rlabel='')\n",
    "for i in range(0,len(all_list)):\n",
    "    plt.hist(all_list[i],\n",
    "             bins=100,\n",
    "                range=(minx,maxx),\n",
    "                label=name_list[i],\n",
    "                fill=False,\n",
    "                linewidth=2,\n",
    "                edgecolor=pick_color[i],\n",
    "                histtype='step'\n",
    "                )\n",
    "plt.xlabel(\"pt\")\n",
    "# plt.xlabel(r\"$pT(GeV)$\")\n",
    "plt.ylabel(\"number of events\")\n",
    "# plt.title(\"Order with Pt\")\n",
    "# plt.title(\"with pt>15GeV cut\")\n",
    "# plt.title(\"Higgs mass\")\n",
    "plt.legend(loc=1,fontsize=20)\n",
    "# plt.axvline(x = 125, color = 'r',label=\"M = 125\",linestyle =\"--\")"
   ]
  },
  {
   "cell_type": "code",
   "execution_count": null,
   "id": "a51ee324",
   "metadata": {},
   "outputs": [],
   "source": [
    "jets = ak.Array([[1,2,3],[4,5,6,7]])"
   ]
  },
  {
   "cell_type": "code",
   "execution_count": null,
   "id": "997afad5",
   "metadata": {},
   "outputs": [],
   "source": [
    "a = ak.pad_none(jets,5,clip=True)"
   ]
  },
  {
   "cell_type": "code",
   "execution_count": null,
   "id": "fe285371",
   "metadata": {},
   "outputs": [],
   "source": [
    "print(a)"
   ]
  },
  {
   "cell_type": "code",
   "execution_count": null,
   "id": "0fdf9cd0",
   "metadata": {},
   "outputs": [],
   "source": []
  }
 ],
 "metadata": {
  "interpreter": {
   "hash": "61a04d2e8d38f75e3769873c3019d1509bf07db114c761b53d1b207dd9abb9bf"
  },
  "kernelspec": {
   "display_name": "Python 3",
   "language": "python",
   "name": "python3"
  },
  "language_info": {
   "codemirror_mode": {
    "name": "ipython",
    "version": 3
   },
   "file_extension": ".py",
   "mimetype": "text/x-python",
   "name": "python",
   "nbconvert_exporter": "python",
   "pygments_lexer": "ipython3",
   "version": "3.10.4"
  }
 },
 "nbformat": 4,
 "nbformat_minor": 5
}
