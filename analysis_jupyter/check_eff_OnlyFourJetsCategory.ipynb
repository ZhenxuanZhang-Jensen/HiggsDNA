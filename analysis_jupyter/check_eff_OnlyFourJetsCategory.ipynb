{
 "cells": [
  {
   "cell_type": "code",
   "execution_count": 8,
   "metadata": {},
   "outputs": [],
   "source": [
    "import uproot\n",
    "import pandas as pd"
   ]
  },
  {
   "cell_type": "code",
   "execution_count": 2,
   "metadata": {},
   "outputs": [],
   "source": [
    "f_cppFramework = uproot.open(\"/eos/user/z/zhenxuan/DoubleHiggs/MC_Root/GluGluToRadionToHHTo2G4Q_M300.root\")"
   ]
  },
  {
   "cell_type": "code",
   "execution_count": 4,
   "metadata": {},
   "outputs": [
    {
     "data": {
      "text/plain": [
       "['Events;4',\n",
       " 'Events;3',\n",
       " 'TotalEvents;1',\n",
       " 'totalCutFlow_FH_OnlyFourjetsCategory;1',\n",
       " 'totalCutFlow_FH;1',\n",
       " 'Radion_Cutflow;1',\n",
       " 'Ak4JetsCut;1',\n",
       " 'totalCutFlow_FH_GENMatch;1',\n",
       " 'totalCutFlow_SL;1',\n",
       " 'eventNumber;1']"
      ]
     },
     "execution_count": 4,
     "metadata": {},
     "output_type": "execute_result"
    }
   ],
   "source": [
    "f_cppFramework.keys()"
   ]
  },
  {
   "cell_type": "code",
   "execution_count": 9,
   "metadata": {},
   "outputs": [],
   "source": [
    "cut_table_oldFramework = f_cppFramework[\"totalCutFlow_FH_OnlyFourjetsCategory\"].values()"
   ]
  },
  {
   "cell_type": "code",
   "execution_count": 12,
   "metadata": {},
   "outputs": [],
   "source": [
    "df_cut_table = pd.DataFrame()\n",
    "df_cut_table[\"all Events\"] = [cut_table_cppFramework[0],str(cut_table_cppFramework[0]/cut_table_cppFramework[0]) + '%' ]\n",
    "df_cut_table[\"Photon selection\"] = [cut_table_cppFramework[1],str(cut_table_cppFramework[1]/cut_table_cppFramework[0] * 100) + '%']\n",
    "df_cut_table[\"Lepton selection\"] = [cut_table_cppFramework[2],str(cut_table_cppFramework[2]/cut_table_cppFramework[0] * 100) + '%']\n",
    "df_cut_table[\"Only ak4 jets selection\"] = [cut_table_cppFramework[3],str(cut_table_cppFramework[3]/cut_table_cppFramework[0] * 100) + '%']"
   ]
  },
  {
   "cell_type": "code",
   "execution_count": 14,
   "metadata": {},
   "outputs": [
    {
     "data": {
      "text/html": [
       "<div>\n",
       "<style scoped>\n",
       "    .dataframe tbody tr th:only-of-type {\n",
       "        vertical-align: middle;\n",
       "    }\n",
       "\n",
       "    .dataframe tbody tr th {\n",
       "        vertical-align: top;\n",
       "    }\n",
       "\n",
       "    .dataframe thead th {\n",
       "        text-align: right;\n",
       "    }\n",
       "</style>\n",
       "<table border=\"1\" class=\"dataframe\">\n",
       "  <thead>\n",
       "    <tr style=\"text-align: right;\">\n",
       "      <th></th>\n",
       "      <th>all Events</th>\n",
       "      <th>Photon selection</th>\n",
       "      <th>Lepton selection</th>\n",
       "      <th>Only ak4 jets selection</th>\n",
       "    </tr>\n",
       "  </thead>\n",
       "  <tbody>\n",
       "    <tr>\n",
       "      <th>0</th>\n",
       "      <td>288160.0</td>\n",
       "      <td>118826.0</td>\n",
       "      <td>118306.0</td>\n",
       "      <td>63826.0</td>\n",
       "    </tr>\n",
       "    <tr>\n",
       "      <th>1</th>\n",
       "      <td>1.0%</td>\n",
       "      <td>41.236117482185364%</td>\n",
       "      <td>41.05566442012787%</td>\n",
       "      <td>22.149500250816345%</td>\n",
       "    </tr>\n",
       "  </tbody>\n",
       "</table>\n",
       "</div>"
      ],
      "text/plain": [
       "  all Events     Photon selection    Lepton selection Only ak4 jets selection\n",
       "0   288160.0             118826.0            118306.0                 63826.0\n",
       "1       1.0%  41.236117482185364%  41.05566442012787%     22.149500250816345%"
      ]
     },
     "execution_count": 14,
     "metadata": {},
     "output_type": "execute_result"
    }
   ],
   "source": [
    "df_cut_table"
   ]
  },
  {
   "cell_type": "code",
   "execution_count": null,
   "metadata": {},
   "outputs": [],
   "source": [
    "f_higgsdna = uproot.open(\"/eos/user/z/zhenxuan/DoubleHiggs/MC_Root/GluGluToRadionToHHTo2G4Q_M300.root\")"
   ]
  }
 ],
 "metadata": {
  "interpreter": {
   "hash": "61a04d2e8d38f75e3769873c3019d1509bf07db114c761b53d1b207dd9abb9bf"
  },
  "kernelspec": {
   "display_name": "Python 3.10.4 ('higgs-dna')",
   "language": "python",
   "name": "python3"
  },
  "language_info": {
   "codemirror_mode": {
    "name": "ipython",
    "version": 3
   },
   "file_extension": ".py",
   "mimetype": "text/x-python",
   "name": "python",
   "nbconvert_exporter": "python",
   "pygments_lexer": "ipython3",
   "version": "3.10.4"
  },
  "orig_nbformat": 4
 },
 "nbformat": 4,
 "nbformat_minor": 2
}
