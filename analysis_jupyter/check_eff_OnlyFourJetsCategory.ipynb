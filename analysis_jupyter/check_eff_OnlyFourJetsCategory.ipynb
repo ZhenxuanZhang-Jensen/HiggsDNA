{
 "cells": [
  {
   "cell_type": "code",
   "execution_count": 103,
   "metadata": {},
   "outputs": [],
   "source": [
    "import uproot\n",
    "import pandas as pd"
   ]
  },
  {
   "cell_type": "code",
   "execution_count": null,
   "metadata": {},
   "outputs": [],
   "source": []
  },
  {
   "cell_type": "code",
   "execution_count": 104,
   "metadata": {},
   "outputs": [],
   "source": [
    "f_cppFramework = uproot.open(\"/eos/user/z/zhenxuan/DoubleHiggs/MC_Root/GluGluToRadionToHHTo2G4Q_M300.root\")"
   ]
  },
  {
   "cell_type": "code",
   "execution_count": 105,
   "metadata": {},
   "outputs": [
    {
     "data": {
      "text/plain": [
       "['Events;4',\n",
       " 'Events;3',\n",
       " 'TotalEvents;1',\n",
       " 'totalCutFlow_FH_OnlyFourjetsCategory;1',\n",
       " 'totalCutFlow_FH;1',\n",
       " 'Radion_Cutflow;1',\n",
       " 'Ak4JetsCut;1',\n",
       " 'totalCutFlow_FH_GENMatch;1',\n",
       " 'totalCutFlow_SL;1',\n",
       " 'eventNumber;1']"
      ]
     },
     "execution_count": 105,
     "metadata": {},
     "output_type": "execute_result"
    }
   ],
   "source": [
    "f_cppFramework.keys()"
   ]
  },
  {
   "cell_type": "code",
   "execution_count": 106,
   "metadata": {},
   "outputs": [],
   "source": [
    "cut_table_cppFramework = f_cppFramework[\"totalCutFlow_FH_OnlyFourjetsCategory\"].values()"
   ]
  },
  {
   "cell_type": "code",
   "execution_count": 107,
   "metadata": {},
   "outputs": [
    {
     "name": "stdout",
     "output_type": "stream",
     "text": [
      "all events: 12874\n",
      "Photon numbers:4995 Photon Selection eff: 0.388002\n",
      "Lepton numbers:4986 Lepton Selection eff: 0.387360\n",
      "Jet numbers:2178 Jet Selection eff: 0.169192\n"
     ]
    }
   ],
   "source": [
    "# get all events eff with combine all the log file together\n",
    "import os \n",
    "import numpy as np\n",
    "cmd_events = 'grep \"load_events\" /eos/user/z/zhenxuan/hhwwgg/GluGluToRadionToHHTo2G4Q_M300_2017/*/*.log'\n",
    "cmd_HHWWtagger_events = 'grep \"my_HHWW_Preselection : event set\" /eos/user/z/zhenxuan/hhwwgg/GluGluToRadionToHHTo2G4Q_M300_2017/*/*.log'\n",
    "cmd_photon = 'grep \"Photon Selection\" /eos/user/z/zhenxuan/hhwwgg/GluGluToRadionToHHTo2G4Q_M300_2017/*/*.log'\n",
    "cmd_lepton = 'grep \"Lepton Selection\" /eos/user/z/zhenxuan/hhwwgg/GluGluToRadionToHHTo2G4Q_M300_2017/*/*.log'\n",
    "cmd_jet = 'grep \"OnlyFourJet_category\" /eos/user/z/zhenxuan/hhwwgg/GluGluToRadionToHHTo2G4Q_M300_2017/*/*.log'\n",
    "events = os.popen(cmd_events).readlines()\n",
    "HHWWtagger_events = os.popen(cmd_HHWWtagger_events).readlines()\n",
    "photon = os.popen(cmd_photon).readlines()\n",
    "lepton = os.popen(cmd_lepton).readlines()\n",
    "jet = os.popen(cmd_jet).readlines()\n",
    "events_number = []\n",
    "HHWWtagger_events_number = []\n",
    "Photon_eff = []\n",
    "Lepton_eff = []\n",
    "Jet_eff = []\n",
    "Jet_eff = []\n",
    "for i in range(len(events)):\n",
    "    events_number.append(int(events[i].split(\"Loaded\")[-1].split(\"events\")[0]))\n",
    "    HHWWtagger_events_number.append(float(HHWWtagger_events[i].split('(')[0].split()[-1]))\n",
    "    Photon_eff.append(float(HHWWtagger_events[i].split('(')[0].split()[-1]) * float(photon[i].split(':')[-2].split(' ')[1])/int(events[i].split(\"Loaded\")[-1].split(\"events\")[0]) )\n",
    "    Lepton_eff.append(float(HHWWtagger_events[i].split('(')[0].split()[-1]) * float(lepton[i].split(':')[-2].split(' ')[1])/int(events[i].split(\"Loaded\")[-1].split(\"events\")[0]) )\n",
    "    Jet_eff.append(float(HHWWtagger_events[i].split('(')[0].split()[-1]) * float(jet[i].split(':')[-2].split(' ')[1])/int(events[i].split(\"Loaded\")[-1].split(\"events\")[0]) )\n",
    "    # Jet_eff.append(float(jet[i].split(':')[-2].split(' ')[1]))\n",
    "Photon_eff = float(np.mean(Photon_eff))\n",
    "Lepton_eff = float(np.mean(Lepton_eff))\n",
    "Jet_eff = float(np.mean(Jet_eff))\n",
    "all_HHWWtagger_events = float(np.sum(HHWWtagger_events_number))\n",
    "all_events = float(np.sum(events_number))\n",
    "print(\"all events: %i\" %(all_events) )\n",
    "print(\"Photon numbers:%i\" %(all_events*Photon_eff), \"Photon Selection eff: %f\" %(Photon_eff) )\n",
    "print(\"Lepton numbers:%i\" %(all_events*Lepton_eff), \"Lepton Selection eff: %f\" %(Lepton_eff) )\n",
    "print(\"Jet numbers:%i\" %(all_events*Jet_eff), \"Jet Selection eff: %f\" %(Jet_eff) )\n"
   ]
  },
  {
   "cell_type": "code",
   "execution_count": 108,
   "metadata": {},
   "outputs": [],
   "source": [
    "df_cut_table = pd.DataFrame()\n",
    "df_cut_table[\"cpp framework N\"] = [cut_table_cppFramework[0],cut_table_cppFramework[1],cut_table_cppFramework[2],cut_table_cppFramework[3]]\n",
    "df_cut_table[\"cpp framework eff(%)\"] = [str(round(cut_table_cppFramework[0]/cut_table_cppFramework[0] * 100,2)) + '%' ,str(round(cut_table_cppFramework[1]/cut_table_cppFramework[0] * 100,2)) + '%', str(round(cut_table_cppFramework[2]/cut_table_cppFramework[0] * 100,2)) + '%' , str(round(cut_table_cppFramework[3]/cut_table_cppFramework[0] * 100,2)) + '%' ]\n",
    "df_cut_table[\"higgsdna framework N\"] = [round(all_events,0),round(all_events*Photon_eff,0), round(all_events*Lepton_eff,0) ,round(all_events*Jet_eff,0)]\n",
    "df_cut_table[\"higgsdna framework eff(%)\"] = [str(round(all_events / all_events * 100,2)) + '%',str(round(Photon_eff* 100,2)) + '%', str(round(Lepton_eff* 100,2)) + '%',str(round(Jet_eff* 100,2)) + '%' ]"
   ]
  },
  {
   "cell_type": "code",
   "execution_count": 109,
   "metadata": {},
   "outputs": [],
   "source": [
    "df_cut_table.index = ['all Events', 'Photon selection','Lepton Selection', 'Only ak4 jets slection']"
   ]
  },
  {
   "cell_type": "code",
   "execution_count": 110,
   "metadata": {},
   "outputs": [],
   "source": [
    "df_cut_table.to_csv(\"only 4 jets eff check\")"
   ]
  },
  {
   "cell_type": "code",
   "execution_count": 111,
   "metadata": {},
   "outputs": [
    {
     "data": {
      "text/html": [
       "<div>\n",
       "<style scoped>\n",
       "    .dataframe tbody tr th:only-of-type {\n",
       "        vertical-align: middle;\n",
       "    }\n",
       "\n",
       "    .dataframe tbody tr th {\n",
       "        vertical-align: top;\n",
       "    }\n",
       "\n",
       "    .dataframe thead th {\n",
       "        text-align: right;\n",
       "    }\n",
       "</style>\n",
       "<table border=\"1\" class=\"dataframe\">\n",
       "  <thead>\n",
       "    <tr style=\"text-align: right;\">\n",
       "      <th></th>\n",
       "      <th>cpp framework N</th>\n",
       "      <th>cpp framework eff(%)</th>\n",
       "      <th>higgsdna framework N</th>\n",
       "      <th>higgsdna framework eff(%)</th>\n",
       "    </tr>\n",
       "  </thead>\n",
       "  <tbody>\n",
       "    <tr>\n",
       "      <th>all Events</th>\n",
       "      <td>288160.0</td>\n",
       "      <td>100.0%</td>\n",
       "      <td>12874.0</td>\n",
       "      <td>100.0%</td>\n",
       "    </tr>\n",
       "    <tr>\n",
       "      <th>Photon selection</th>\n",
       "      <td>112840.0</td>\n",
       "      <td>39.16%</td>\n",
       "      <td>4995.0</td>\n",
       "      <td>38.8%</td>\n",
       "    </tr>\n",
       "    <tr>\n",
       "      <th>Lepton Selection</th>\n",
       "      <td>112694.0</td>\n",
       "      <td>39.11%</td>\n",
       "      <td>4987.0</td>\n",
       "      <td>38.74%</td>\n",
       "    </tr>\n",
       "    <tr>\n",
       "      <th>Only ak4 jets slection</th>\n",
       "      <td>44214.0</td>\n",
       "      <td>15.34%</td>\n",
       "      <td>2178.0</td>\n",
       "      <td>16.92%</td>\n",
       "    </tr>\n",
       "  </tbody>\n",
       "</table>\n",
       "</div>"
      ],
      "text/plain": [
       "                        cpp framework N cpp framework eff(%)  \\\n",
       "all Events                     288160.0               100.0%   \n",
       "Photon selection               112840.0               39.16%   \n",
       "Lepton Selection               112694.0               39.11%   \n",
       "Only ak4 jets slection          44214.0               15.34%   \n",
       "\n",
       "                        higgsdna framework N higgsdna framework eff(%)  \n",
       "all Events                           12874.0                    100.0%  \n",
       "Photon selection                      4995.0                     38.8%  \n",
       "Lepton Selection                      4987.0                    38.74%  \n",
       "Only ak4 jets slection                2178.0                    16.92%  "
      ]
     },
     "execution_count": 111,
     "metadata": {},
     "output_type": "execute_result"
    }
   ],
   "source": [
    "df_cut_table"
   ]
  },
  {
   "cell_type": "code",
   "execution_count": 112,
   "metadata": {},
   "outputs": [],
   "source": [
    "f_higgsdna = uproot.open(\"/eos/user/z/zhenxuan/DoubleHiggs/MC_Root/GluGluToRadionToHHTo2G4Q_M300.root\")"
   ]
  }
 ],
 "metadata": {
  "interpreter": {
   "hash": "61a04d2e8d38f75e3769873c3019d1509bf07db114c761b53d1b207dd9abb9bf"
  },
  "kernelspec": {
   "display_name": "Python 3.10.4 ('higgs-dna')",
   "language": "python",
   "name": "python3"
  },
  "language_info": {
   "codemirror_mode": {
    "name": "ipython",
    "version": 3
   },
   "file_extension": ".py",
   "mimetype": "text/x-python",
   "name": "python",
   "nbconvert_exporter": "python",
   "pygments_lexer": "ipython3",
   "version": "3.10.4"
  },
  "orig_nbformat": 4
 },
 "nbformat": 4,
 "nbformat_minor": 2
}
