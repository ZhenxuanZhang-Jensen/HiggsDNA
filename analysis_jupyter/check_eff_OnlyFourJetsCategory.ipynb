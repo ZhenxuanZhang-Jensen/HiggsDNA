{
 "cells": [
  {
   "cell_type": "code",
   "execution_count": 1,
   "metadata": {},
   "outputs": [],
   "source": [
    "import uproot\n",
    "import pandas as pd"
   ]
  },
  {
   "cell_type": "code",
   "execution_count": 17,
   "metadata": {},
   "outputs": [],
   "source": [
    "f_cppFramework = uproot.open(\"/eos/user/z/zhenxuan/DoubleHiggs/MC_Root/GluGluToRadionToHHTo2G4Q_M300.root\")"
   ]
  },
  {
   "cell_type": "code",
   "execution_count": 18,
   "metadata": {},
   "outputs": [
    {
     "data": {
      "text/plain": [
       "['Events;4',\n",
       " 'Events;3',\n",
       " 'TotalEvents;1',\n",
       " 'totalCutFlow_FH_OnlyFourjetsCategory;1',\n",
       " 'totalCutFlow_FH;1',\n",
       " 'Radion_Cutflow;1',\n",
       " 'Ak4JetsCut;1',\n",
       " 'totalCutFlow_FH_GENMatch;1',\n",
       " 'totalCutFlow_SL;1',\n",
       " 'eventNumber;1']"
      ]
     },
     "execution_count": 18,
     "metadata": {},
     "output_type": "execute_result"
    }
   ],
   "source": [
    "f_cppFramework.keys()"
   ]
  },
  {
   "cell_type": "code",
   "execution_count": 19,
   "metadata": {},
   "outputs": [],
   "source": [
    "cut_table_cppFramework = f_cppFramework[\"totalCutFlow_FH_OnlyFourjetsCategory\"].values()"
   ]
  },
  {
   "cell_type": "code",
   "execution_count": 27,
   "metadata": {},
   "outputs": [
    {
     "name": "stdout",
     "output_type": "stream",
     "text": [
      "all events: 288160\n",
      "Photon numbers:108592 Photon Selection eff: 0.376850\n",
      "Lepton numbers:108489 Lepton Selection eff: 0.376492\n",
      "Jet numbers:43027 Jet Selection eff: 0.149319\n"
     ]
    }
   ],
   "source": [
    "# get all events eff with combine all the log file together\n",
    "import os \n",
    "import numpy as np\n",
    "cmd_events = 'grep \"load_events\" /eos/user/z/zhenxuan/hhwwgg/GluGluToRadionToHHTo2G4Q_M300_2017/*/*.log'\n",
    "cmd_HHWWtagger_events = 'grep \"my_HHWW_Preselection : event set\" /eos/user/z/zhenxuan/hhwwgg/GluGluToRadionToHHTo2G4Q_M300_2017/*/*.log'\n",
    "cmd_photon = 'grep \"Photon Selection\" /eos/user/z/zhenxuan/hhwwgg/GluGluToRadionToHHTo2G4Q_M300_2017/*/*.log'\n",
    "cmd_lepton = 'grep \"Lepton Selection\" /eos/user/z/zhenxuan/hhwwgg/GluGluToRadionToHHTo2G4Q_M300_2017/*/*.log'\n",
    "cmd_jet = 'grep \"OnlyFourJet_category\" /eos/user/z/zhenxuan/hhwwgg/GluGluToRadionToHHTo2G4Q_M300_2017/*/*.log'\n",
    "events = os.popen(cmd_events).readlines()\n",
    "HHWWtagger_events = os.popen(cmd_HHWWtagger_events).readlines()\n",
    "photon = os.popen(cmd_photon).readlines()\n",
    "lepton = os.popen(cmd_lepton).readlines()\n",
    "jet = os.popen(cmd_jet).readlines()\n",
    "events_number = []\n",
    "HHWWtagger_events_number = []\n",
    "Photon_eff = []\n",
    "Lepton_eff = []\n",
    "Jet_eff = []\n",
    "Jet_eff = []\n",
    "for i in range(len(events)):\n",
    "    events_number.append(int(events[i].split(\"Loaded\")[-1].split(\"events\")[0]))\n",
    "    HHWWtagger_events_number.append(float(HHWWtagger_events[i].split('(')[0].split()[-1]))\n",
    "    Photon_eff.append(float(HHWWtagger_events[i].split('(')[0].split()[-1]) * float(photon[i].split(':')[-2].split(' ')[1])/int(events[i].split(\"Loaded\")[-1].split(\"events\")[0]) )\n",
    "    Lepton_eff.append(float(HHWWtagger_events[i].split('(')[0].split()[-1]) * float(lepton[i].split(':')[-2].split(' ')[1])/int(events[i].split(\"Loaded\")[-1].split(\"events\")[0]) )\n",
    "    Jet_eff.append(float(HHWWtagger_events[i].split('(')[0].split()[-1]) * float(jet[i].split(':')[-2].split(' ')[1])/int(events[i].split(\"Loaded\")[-1].split(\"events\")[0]) )\n",
    "    # Jet_eff.append(float(jet[i].split(':')[-2].split(' ')[1]))\n",
    "Photon_eff = float(np.mean(Photon_eff))\n",
    "Lepton_eff = float(np.mean(Lepton_eff))\n",
    "Jet_eff = float(np.mean(Jet_eff))\n",
    "all_HHWWtagger_events = float(np.sum(HHWWtagger_events_number))\n",
    "all_events = float(np.sum(events_number))\n",
    "print(\"all events: %i\" %(all_events) )\n",
    "print(\"Photon numbers:%i\" %(all_events*Photon_eff), \"Photon Selection eff: %f\" %(Photon_eff) )\n",
    "print(\"Lepton numbers:%i\" %(all_events*Lepton_eff), \"Lepton Selection eff: %f\" %(Lepton_eff) )\n",
    "print(\"Jet numbers:%i\" %(all_events*Jet_eff), \"Jet Selection eff: %f\" %(Jet_eff) )\n"
   ]
  },
  {
   "cell_type": "code",
   "execution_count": 56,
   "metadata": {},
   "outputs": [],
   "source": [
    "df_cut_table = pd.DataFrame()\n",
    "df_cut_table[\"cpp framework N\"] = [cut_table_cppFramework[0],cut_table_cppFramework[1],cut_table_cppFramework[2],cut_table_cppFramework[3]]\n",
    "df_cut_table[\"cpp framework eff(%)\"] = [str(round(cut_table_cppFramework[0]/cut_table_cppFramework[0] * 100,2)) + '%' ,str(round(cut_table_cppFramework[1]/cut_table_cppFramework[0] * 100,2)) + '%', str(round(cut_table_cppFramework[2]/cut_table_cppFramework[0] * 100,2)) + '%' , str(round(cut_table_cppFramework[3]/cut_table_cppFramework[0] * 100,2)) + '%' ]\n",
    "df_cut_table[\"higgsdna framework N\"] = [round(all_events,0),round(all_events*Photon_eff,0), round(all_events*Lepton_eff,0) ,round(all_events*Jet_eff,0)]\n",
    "df_cut_table[\"higgsdna framework eff(%)\"] = [str(round(all_events / all_events * 100,2)) + '%',str(round(Photon_eff* 100,2)) + '%', str(round(Lepton_eff* 100,2)) + '%',str(round(Jet_eff* 100,2)) + '%' ]"
   ]
  },
  {
   "cell_type": "code",
   "execution_count": 52,
   "metadata": {},
   "outputs": [],
   "source": [
    "df_cut_table = pd.DataFrame()\n",
    "df_cut_table[\"all Events\"] = [cut_table_cppFramework[0],str(round(cut_table_cppFramework[0]/cut_table_cppFramework[0] * 100,2)) + '%' , all_events,str(all_events/all_events * 100)+'%']\n",
    "df_cut_table[\"Photon selection\"] = [cut_table_cppFramework[1],str(round(cut_table_cppFramework[1]/cut_table_cppFramework[0] * 100,2)) + '%', round(all_events*Photon_eff,0), str(round(Photon_eff* 100,2)) + '%']\n",
    "df_cut_table[\"Lepton selection\"] = [cut_table_cppFramework[2],str(round(cut_table_cppFramework[2]/cut_table_cppFramework[0] * 100,2)) + '%',round(all_events*Lepton_eff,0),str(round(Lepton_eff* 100,2)) + '%']\n",
    "df_cut_table[\"Only ak4 jets selection\"] = [cut_table_cppFramework[3],str(round(cut_table_cppFramework[3]/cut_table_cppFramework[0] * 100,2)) + '%' ,round(all_events*Jet_eff,0),str(round(Jet_eff* 100,2)) + '%' ]\n"
   ]
  },
  {
   "cell_type": "code",
   "execution_count": 57,
   "metadata": {},
   "outputs": [],
   "source": [
    "df_cut_table.index = ['all Events', 'Photon selection','Lepton Selection', 'Only ak4 jets slection']"
   ]
  },
  {
   "cell_type": "code",
   "execution_count": 59,
   "metadata": {},
   "outputs": [],
   "source": [
    "df_cut_table.to_csv(\"only 4 jets eff check\")"
   ]
  },
  {
   "cell_type": "code",
   "execution_count": null,
   "metadata": {},
   "outputs": [],
   "source": [
    "f_higgsdna = uproot.open(\"/eos/user/z/zhenxuan/DoubleHiggs/MC_Root/GluGluToRadionToHHTo2G4Q_M300.root\")"
   ]
  }
 ],
 "metadata": {
  "interpreter": {
   "hash": "61a04d2e8d38f75e3769873c3019d1509bf07db114c761b53d1b207dd9abb9bf"
  },
  "kernelspec": {
   "display_name": "Python 3.10.4 ('higgs-dna')",
   "language": "python",
   "name": "python3"
  },
  "language_info": {
   "codemirror_mode": {
    "name": "ipython",
    "version": 3
   },
   "file_extension": ".py",
   "mimetype": "text/x-python",
   "name": "python",
   "nbconvert_exporter": "python",
   "pygments_lexer": "ipython3",
   "version": "3.10.4"
  },
  "orig_nbformat": 4
 },
 "nbformat": 4,
 "nbformat_minor": 2
}
