{
 "cells": [
  {
   "cell_type": "code",
   "execution_count": 3,
   "metadata": {},
   "outputs": [],
   "source": [
    "import os"
   ]
  },
  {
   "cell_type": "code",
   "execution_count": null,
   "metadata": {},
   "outputs": [],
   "source": [
    "name_NanoAOD_files = [\n",
    "'/GluGluToRadionToHHTo2B2G_M-1000_narrow_13TeV-madgraph_correctedcfg/RunIIFall17NanoAODv7-PU2017_12Apr2018_Nano02Apr2020_102X_mc2017_realistic_v8-v1/NANOAODSIM',\n",
    "'/GluGluToRadionToHHTo2B2G_M-1250_narrow_TuneCP5_13TeV-madgraph-pythia8_correctedcfg/RunIIFall17NanoAODv7-PU2017_12Apr2018_Nano02Apr2020_102X_mc2017_realistic_v8-v1/NANOAODSIM',\n",
    "'/GluGluToRadionToHHTo2B2G_M-1500_narrow_TuneCP5_13TeV-madgraph-pythia8_correctedcfg/RunIIFall17NanoAODv7-PU2017_12Apr2018_Nano02Apr2020_102X_mc2017_realistic_v8-v1/NANOAODSIM',\n",
    "'/GluGluToRadionToHHTo2B2G_M-1750_narrow_TuneCP5_13TeV-madgraph-pythia8_correctedcfg/RunIIFall17NanoAODv7-PU2017_12Apr2018_Nano02Apr2020_102X_mc2017_realistic_v8-v1/NANOAODSIM',\n",
    "'/GluGluToRadionToHHTo2B2G_M-2000_narrow_TuneCP5_13TeV-madgraph-pythia8_correctedcfg/RunIIFall17NanoAODv7-PU2017_12Apr2018_Nano02Apr2020_102X_mc2017_realistic_v8-v1/NANOAODSIM',\n",
    "'/GluGluToRadionToHHTo2B2G_M-2500_narrow_TuneCP5_13TeV-madgraph-pythia8_correctedcfg/RunIIFall17NanoAODv7-PU2017_12Apr2018_Nano02Apr2020_102X_mc2017_realistic_v8-v1/NANOAODSIM',\n",
    "'/GluGluToRadionToHHTo2B2G_M-250_narrow_13TeV-madgraph_correctedcfg/RunIIFall17NanoAODv7-PU2017_12Apr2018_Nano02Apr2020_102X_mc2017_realistic_v8-v1/NANOAODSIM',\n",
    "'/GluGluToRadionToHHTo2B2G_M-260_narrow_13TeV-madgraph_correctedcfg/RunIIFall17NanoAODv7-PU2017_12Apr2018_Nano02Apr2020_102X_mc2017_realistic_v8-v1/NANOAODSIM',\n",
    "'/GluGluToRadionToHHTo2B2G_M-270_narrow_13TeV-madgraph_correctedcfg/RunIIFall17NanoAODv7-PU2017_12Apr2018_Nano02Apr2020_102X_mc2017_realistic_v8-v1/NANOAODSIM',\n",
    "'/GluGluToRadionToHHTo2B2G_M-280_narrow_13TeV-madgraph_correctedcfg/RunIIFall17NanoAODv7-PU2017_12Apr2018_Nano02Apr2020_102X_mc2017_realistic_v8-v1/NANOAODSIM',\n",
    "'/GluGluToRadionToHHTo2B2G_M-3000_narrow_TuneCP5_13TeV-madgraph-pythia8_correctedcfg/RunIIFall17NanoAODv7-PU2017_12Apr2018_Nano02Apr2020_102X_mc2017_realistic_v8-v1/NANOAODSIM',\n",
    "'/GluGluToRadionToHHTo2B2G_M-300_narrow_13TeV-madgraph_correctedcfg/RunIIFall17NanoAODv7-PU2017_12Apr2018_Nano02Apr2020_102X_mc2017_realistic_v8-v1/NANOAODSIM',\n",
    "'/GluGluToRadionToHHTo2B2G_M-320_narrow_13TeV-madgraph_correctedcfg/RunIIFall17NanoAODv7-PU2017_12Apr2018_Nano02Apr2020_102X_mc2017_realistic_v8-v1/NANOAODSIM',\n",
    "'/GluGluToRadionToHHTo2B2G_M-350_narrow_13TeV-madgraph_correctedcfg/RunIIFall17NanoAODv7-PU2017_12Apr2018_Nano02Apr2020_102X_mc2017_realistic_v8-v1/NANOAODSIM',\n",
    "'/GluGluToRadionToHHTo2B2G_M-400_narrow_13TeV-madgraph_correctedcfg/RunIIFall17NanoAODv7-PU2017_12Apr2018_Nano02Apr2020_102X_mc2017_realistic_v8-v1/NANOAODSIM',\n",
    "'/GluGluToRadionToHHTo2B2G_M-450_narrow_13TeV-madgraph_correctedcfg/RunIIFall17NanoAODv7-PU2017_12Apr2018_Nano02Apr2020_102X_mc2017_realistic_v8-v1/NANOAODSIM',\n",
    "'/GluGluToRadionToHHTo2B2G_M-500_narrow_13TeV-madgraph_correctedcfg/RunIIFall17NanoAODv7-PU2017_12Apr2018_Nano02Apr2020_102X_mc2017_realistic_v8-v1/NANOAODSIM',\n",
    "'/GluGluToRadionToHHTo2B2G_M-550_narrow_13TeV-madgraph_correctedcfg/RunIIFall17NanoAODv7-PU2017_12Apr2018_Nano02Apr2020_102X_mc2017_realistic_v8-v1/NANOAODSIM',\n",
    "'/GluGluToRadionToHHTo2B2G_M-600_narrow_13TeV-madgraph_correctedcfg/RunIIFall17NanoAODv7-PU2017_12Apr2018_Nano02Apr2020_102X_mc2017_realistic_v8-v1/NANOAODSIM',\n",
    "'/GluGluToRadionToHHTo2B2G_M-650_narrow_13TeV-madgraph_correctedcfg/RunIIFall17NanoAODv7-PU2017_12Apr2018_Nano02Apr2020_102X_mc2017_realistic_v8-v1/NANOAODSIM',\n",
    "'/GluGluToRadionToHHTo2B2G_M-700_narrow_13TeV-madgraph_correctedcfg/RunIIFall17NanoAODv7-PU2017_12Apr2018_Nano02Apr2020_102X_mc2017_realistic_v8-v1/NANOAODSIM',\n",
    "'/GluGluToRadionToHHTo2B2G_M-750_narrow_13TeV-madgraph_correctedcfg/RunIIFall17NanoAODv7-PU2017_12Apr2018_Nano02Apr2020_102X_mc2017_realistic_v8-v1/NANOAODSIM',\n",
    "'/GluGluToRadionToHHTo2B2G_M-800_narrow_13TeV-madgraph_correctedcfg/RunIIFall17NanoAODv7-PU2017_12Apr2018_Nano02Apr2020_102X_mc2017_realistic_v8-v1/NANOAODSIM',\n",
    "'/GluGluToRadionToHHTo2B2G_M-850_narrow_13TeV-madgraph_correctedcfg/RunIIFall17NanoAODv7-PU2017_12Apr2018_Nano02Apr2020_102X_mc2017_realistic_v8-v1/NANOAODSIM',\n",
    "'/GluGluToRadionToHHTo2B2G_M-900_narrow_13TeV-madgraph_correctedcfg/RunIIFall17NanoAODv7-PU2017_12Apr2018_Nano02Apr2020_102X_mc2017_realistic_v8-v1/NANOAODSIM'\n",
    "    ]\n",
    "name_NanoAOD_titles = [\n",
    "'GluGluToRadionToHHTo2B2G_M-1000',\n",
    "'GluGluToRadionToHHTo2B2G_M-1250',\n",
    "'GluGluToRadionToHHTo2B2G_M-1500',\n",
    "'GluGluToRadionToHHTo2B2G_M-1750',\n",
    "'GluGluToRadionToHHTo2B2G_M-2000',\n",
    "'GluGluToRadionToHHTo2B2G_M-2500',\n",
    "'GluGluToRadionToHHTo2B2G_M-250',\n",
    "'GluGluToRadionToHHTo2B2G_M-260',\n",
    "'GluGluToRadionToHHTo2B2G_M-270',\n",
    "'GluGluToRadionToHHTo2B2G_M-280',\n",
    "'GluGluToRadionToHHTo2B2G_M-3000',\n",
    "'GluGluToRadionToHHTo2B2G_M-300',\n",
    "'GluGluToRadionToHHTo2B2G_M-320',\n",
    "'GluGluToRadionToHHTo2B2G_M-350',\n",
    "'GluGluToRadionToHHTo2B2G_M-400',\n",
    "'GluGluToRadionToHHTo2B2G_M-450',\n",
    "'GluGluToRadionToHHTo2B2G_M-500',\n",
    "'GluGluToRadionToHHTo2B2G_M-550',\n",
    "'GluGluToRadionToHHTo2B2G_M-600',\n",
    "'GluGluToRadionToHHTo2B2G_M-650',\n",
    "'GluGluToRadionToHHTo2B2G_M-700',\n",
    "'GluGluToRadionToHHTo2B2G_M-750',\n",
    "'GluGluToRadionToHHTo2B2G_M-800',\n",
    "'GluGluToRadionToHHTo2B2G_M-850',\n",
    "'GluGluToRadionToHHTo2B2G_M-900'\n",
    "    ]"
   ]
  },
  {
   "cell_type": "code",
   "execution_count": 66,
   "metadata": {},
   "outputs": [],
   "source": [
    "name_allroot_files = []\n",
    "# for i in range(3):\n",
    "for i in range(len(name_NanoAOD_files)):\n",
    "    a= name_NanoAOD_files[i]\n",
    "    cmd = 'dasgoclient --query=\"file dataset=' + name_NanoAOD_files[i] + '\"' \n",
    "    root_files = os.popen(str(cmd)).readlines()\n",
    "    name_allroot_files.append(root_files)\n"
   ]
  },
  {
   "cell_type": "code",
   "execution_count": 61,
   "metadata": {},
   "outputs": [],
   "source": [
    "name_allroot_files[0]\n",
    "name_allroot_files[0] = str(\"root://cms-xrd-global.cern.ch/\"+name_allroot_files[0])\n",
    "name_allroot_files[0] = name_allroot_files[0].replace(\"'\",\"\\\"\")"
   ]
  },
  {
   "cell_type": "code",
   "execution_count": 63,
   "metadata": {},
   "outputs": [
    {
     "data": {
      "text/plain": [
       "'['"
      ]
     },
     "execution_count": 63,
     "metadata": {},
     "output_type": "execute_result"
    }
   ],
   "source": []
  },
  {
   "cell_type": "code",
   "execution_count": 67,
   "metadata": {},
   "outputs": [],
   "source": [
    "file_handle=open('1.txt',mode='w')\n",
    "for i in range(len(name_NanoAOD_files)):\n",
    "# for i in range(2):\n",
    "    name_allroot_files[i] = str(name_allroot_files[i])\n",
    "    name_allroot_files[i] = name_allroot_files[i].replace(\"'\",\"\\\"\")\n",
    "    name_allroot_files[i] = name_allroot_files[i].replace('\"/store','\"root://cms-xrd-global.cern.ch//store')\n",
    "    file_handle.write('\"%s\":{\\n\"xs\":1.0,\\n\"bf\":1.0,\\n\"files\":{\\n\"2017\":\\n%s\\n}\\n},\\n'%(name_NanoAOD_titles[i],name_allroot_files[i]))\n",
    "file_handle.close()\n"
   ]
  },
  {
   "cell_type": "code",
   "execution_count": null,
   "metadata": {},
   "outputs": [],
   "source": []
  }
 ],
 "metadata": {
  "interpreter": {
   "hash": "61a04d2e8d38f75e3769873c3019d1509bf07db114c761b53d1b207dd9abb9bf"
  },
  "kernelspec": {
   "display_name": "Python 2.7.14 ('higgs-dna')",
   "language": "python",
   "name": "python3"
  },
  "language_info": {
   "codemirror_mode": {
    "name": "ipython",
    "version": 3
   },
   "file_extension": ".py",
   "mimetype": "text/x-python",
   "name": "python",
   "nbconvert_exporter": "python",
   "pygments_lexer": "ipython3",
   "version": "3.10.4"
  },
  "orig_nbformat": 4
 },
 "nbformat": 4,
 "nbformat_minor": 2
}
