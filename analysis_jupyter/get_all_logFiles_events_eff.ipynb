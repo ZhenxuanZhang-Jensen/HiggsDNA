{
 "cells": [
  {
   "cell_type": "code",
   "execution_count": null,
   "metadata": {},
   "outputs": [],
   "source": [
    "# get the whole events number\n",
    "import os \n",
    "cmd = 'grep \"load_events\" /eos/user/z/zhenxuan/hhwwgg/GluGluToRadionToHHTo2G4Q_M300_2017/*/*.log'\n",
    "p = os.popen(cmd).readlines()\n",
    "events_number = []\n",
    "for i in range(len(p)):\n",
    "    events_number.append(int(p[i].split(\"Loaded\")[-1].split(\"events\")[0]))\n",
    "sum(events_number)"
   ]
  },
  {
   "cell_type": "code",
   "execution_count": null,
   "metadata": {},
   "outputs": [],
   "source": [
    "# get all events eff with combine all the log file together\n",
    "import os \n",
    "import numpy as np\n",
    "cmd_events = 'grep \"load_events\" /eos/user/z/zhenxuan/hhwwgg/GluGluToRadionToHHTo2G4Q_M300_2017/*/*.log'\n",
    "cmd_HHWWtagger_events = 'grep \"my_HHWW_Preselection : event set\" /eos/user/z/zhenxuan/hhwwgg/GluGluToRadionToHHTo2G4Q_M300_2017/*/*.log'\n",
    "cmd_photon = 'grep \"Photon Selection\" /eos/user/z/zhenxuan/hhwwgg/GluGluToRadionToHHTo2G4Q_M300_2017/*/*.log'\n",
    "cmd_lepton = 'grep \"Lepton Selection\" /eos/user/z/zhenxuan/hhwwgg/GluGluToRadionToHHTo2G4Q_M300_2017/*/*.log'\n",
    "cmd_jet = 'grep \"OnlyFourJet_category\" /eos/user/z/zhenxuan/hhwwgg/GluGluToRadionToHHTo2G4Q_M300_2017/*/*.log'\n",
    "events = os.popen(cmd_events).readlines()\n",
    "HHWWtagger_events = os.popen(cmd_HHWWtagger_events).readlines()\n",
    "photon = os.popen(cmd_photon).readlines()\n",
    "lepton = os.popen(cmd_lepton).readlines()\n",
    "jet = os.popen(cmd_jet).readlines()\n",
    "events_number = []\n",
    "HHWWtagger_events_number = []\n",
    "Photon_eff = []\n",
    "Lepton_eff = []\n",
    "Jet_eff = []\n",
    "Jet_eff = []\n",
    "for i in range(len(events)):\n",
    "    events_number.append(int(events[i].split(\"Loaded\")[-1].split(\"events\")[0]))\n",
    "    HHWWtagger_events_number.append(float(HHWWtagger_events[i].split('(')[0].split()[-1]))\n",
    "    Photon_eff.append(float(HHWWtagger_events[i].split('(')[0].split()[-1]) * float(photon[i].split(':')[-2].split(' ')[1])/int(events[i].split(\"Loaded\")[-1].split(\"events\")[0]) )\n",
    "    Lepton_eff.append(float(HHWWtagger_events[i].split('(')[0].split()[-1]) * float(lepton[i].split(':')[-2].split(' ')[1])/int(events[i].split(\"Loaded\")[-1].split(\"events\")[0]) )\n",
    "    Jet_eff.append(float(jet[i].split(':')[-2].split(' ')[1]))\n",
    "Photon_eff = float(np.mean(Photon_eff))\n",
    "Lepton_eff = float(np.mean(Lepton_eff))\n",
    "Jet_eff = float(np.mean(Jet_eff))\n",
    "all_HHWWtagger_events = float(np.sum(HHWWtagger_events_number))\n",
    "all_events = float(np.sum(events_number))\n",
    "print(\"all events: %i\" %(all_events) )\n",
    "print(\"Photon numbers:%i\" %(all_events*Photon_eff), \"Photon Selection eff: %f\" %(Photon_eff) )\n",
    "print(\"Lepton numbers:%i\" %(all_events*Lepton_eff), \"Lepton Selection eff: %f\" %(Lepton_eff) )\n",
    "print(\"Jet numbers:%i\" %(all_HHWWtagger_events*Jet_eff), \"Jet Selection eff: %f\" %(all_HHWWtagger_events*Jet_eff / all_events) )\n"
   ]
  }
 ],
 "metadata": {
  "language_info": {
   "name": "python"
  },
  "orig_nbformat": 4
 },
 "nbformat": 4,
 "nbformat_minor": 2
}
